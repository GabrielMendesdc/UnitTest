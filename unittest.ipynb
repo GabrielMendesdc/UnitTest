{
 "cells": [
  {
   "cell_type": "code",
   "execution_count": 12,
   "id": "4e508285",
   "metadata": {},
   "outputs": [
    {
     "name": "stderr",
     "output_type": "stream",
     "text": [
      "..\n",
      "----------------------------------------------------------------------\n",
      "Ran 2 tests in 0.002s\n",
      "\n",
      "OK\n"
     ]
    }
   ],
   "source": [
    "import unittest\n",
    "from ipynb.fs.full.city import city\n",
    "\n",
    "class NamesTestCase(unittest.TestCase):\n",
    "#     def test_names(self):\n",
    "#         nomes = city('Campinas','Brasil', 500)\n",
    "#         self.assertEqual(nomes, 'Brasil, Campinas - population 500')\n",
    "    def setUp(self):\n",
    "        nome = 'gabriel'\n",
    "        sobrenome = 'mendes'\n",
    "        salario = 0\n",
    "        self.classe = Employee(nome,sobrenome,salario)\n",
    "    def test_padrao(self):\n",
    "        salario = self.classe.aumento()\n",
    "        self.assertEqual(salario,5000)\n",
    "    def test_custom(self):\n",
    "        salario = self.classe.aumento(1000)\n",
    "        self.assertEqual(salario,1000)\n",
    "    \n",
    "    \n",
    "class Employee():\n",
    "    def __init__(self,nome,sobrenome,salario):\n",
    "        self.nome = nome\n",
    "        self.sobrenome = sobrenome\n",
    "        self.salario = salario\n",
    "    def aumento(self,din=5000):\n",
    "        self.salario = self.salario + din\n",
    "        return self.salario\n",
    "\n",
    "    \n",
    "if __name__ == '__main__':\n",
    "    unittest.main(argv=['first-arg-is-ignored'], exit=False)\n",
    "       "
   ]
  },
  {
   "cell_type": "code",
   "execution_count": null,
   "id": "9f8443d3",
   "metadata": {},
   "outputs": [],
   "source": []
  },
  {
   "cell_type": "code",
   "execution_count": null,
   "id": "46d22fb3",
   "metadata": {},
   "outputs": [],
   "source": []
  },
  {
   "cell_type": "code",
   "execution_count": null,
   "id": "5d235ae4",
   "metadata": {},
   "outputs": [],
   "source": []
  }
 ],
 "metadata": {
  "kernelspec": {
   "display_name": "minhaenv",
   "language": "python",
   "name": "minhaenv"
  },
  "language_info": {
   "codemirror_mode": {
    "name": "ipython",
    "version": 3
   },
   "file_extension": ".py",
   "mimetype": "text/x-python",
   "name": "python",
   "nbconvert_exporter": "python",
   "pygments_lexer": "ipython3",
   "version": "3.9.7"
  }
 },
 "nbformat": 4,
 "nbformat_minor": 5
}
